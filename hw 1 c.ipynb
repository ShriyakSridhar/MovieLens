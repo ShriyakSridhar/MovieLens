{
 "cells": [
  {
   "cell_type": "code",
   "execution_count": 1,
   "metadata": {
    "collapsed": true
   },
   "outputs": [],
   "source": [
    "%matplotlib inline\n",
    "\n",
    "import pandas as pd\n",
    "import matplotlib.pyplot as plt\n",
    "import numpy as np\n",
    "import matplotlib as mpl\n",
    "import sklearn\n",
    "from sklearn.linear_model import LinearRegression\n",
    "from sklearn.linear_model import Ridge\n",
    "from sklearn.model_selection import train_test_split\n",
    "from sklearn.tree import DecisionTreeRegressor"
   ]
  },
  {
   "cell_type": "code",
   "execution_count": 2,
   "metadata": {
    "collapsed": true
   },
   "outputs": [],
   "source": [
    "master_dataset = pd.read_csv('data_exploded.csv', encoding='latin-1', low_memory=False)\n",
    "data = master_dataset.copy()\n",
    "\n",
    "#dep_data = data.select_dtypes(include=[\"int64\"])\n",
    "#X_train, X_test, y_train, y_test = train_test_split(dep_data.drop(\"rating\", axis=1), data[\"rating\"], test_size=0.2, random_state=0)"
   ]
  },
  {
   "cell_type": "code",
   "execution_count": 3,
   "metadata": {},
   "outputs": [
    {
     "data": {
      "text/html": [
       "<div>\n",
       "<style>\n",
       "    .dataframe thead tr:only-child th {\n",
       "        text-align: right;\n",
       "    }\n",
       "\n",
       "    .dataframe thead th {\n",
       "        text-align: left;\n",
       "    }\n",
       "\n",
       "    .dataframe tbody tr th {\n",
       "        vertical-align: top;\n",
       "    }\n",
       "</style>\n",
       "<table border=\"1\" class=\"dataframe\">\n",
       "  <thead>\n",
       "    <tr style=\"text-align: right;\">\n",
       "      <th></th>\n",
       "      <th>movie_id</th>\n",
       "      <th>user_id</th>\n",
       "      <th>rating</th>\n",
       "      <th>age</th>\n",
       "      <th>gender</th>\n",
       "      <th>occupation</th>\n",
       "      <th>zip code</th>\n",
       "      <th>movie_title</th>\n",
       "      <th>release_date</th>\n",
       "      <th>video_release_date</th>\n",
       "      <th>...</th>\n",
       "      <th>Film-Noir</th>\n",
       "      <th>Horror</th>\n",
       "      <th>Musical</th>\n",
       "      <th>Mystery</th>\n",
       "      <th>Romance</th>\n",
       "      <th>Sci-Fi</th>\n",
       "      <th>Thriller</th>\n",
       "      <th>War</th>\n",
       "      <th>Western</th>\n",
       "      <th>rating_exists</th>\n",
       "    </tr>\n",
       "  </thead>\n",
       "  <tbody>\n",
       "    <tr>\n",
       "      <th>3364</th>\n",
       "      <td>1</td>\n",
       "      <td>3</td>\n",
       "      <td>-1.0</td>\n",
       "      <td>23</td>\n",
       "      <td>M</td>\n",
       "      <td>writer</td>\n",
       "      <td>32067</td>\n",
       "      <td>Toy Story (1995)</td>\n",
       "      <td>1995</td>\n",
       "      <td>01-Jan-1995</td>\n",
       "      <td>...</td>\n",
       "      <td>0</td>\n",
       "      <td>0</td>\n",
       "      <td>0</td>\n",
       "      <td>0</td>\n",
       "      <td>0</td>\n",
       "      <td>0</td>\n",
       "      <td>0</td>\n",
       "      <td>0</td>\n",
       "      <td>0</td>\n",
       "      <td>False</td>\n",
       "    </tr>\n",
       "    <tr>\n",
       "      <th>3365</th>\n",
       "      <td>2</td>\n",
       "      <td>3</td>\n",
       "      <td>-1.0</td>\n",
       "      <td>23</td>\n",
       "      <td>M</td>\n",
       "      <td>writer</td>\n",
       "      <td>32067</td>\n",
       "      <td>GoldenEye (1995)</td>\n",
       "      <td>1995</td>\n",
       "      <td>01-Jan-1995</td>\n",
       "      <td>...</td>\n",
       "      <td>0</td>\n",
       "      <td>0</td>\n",
       "      <td>0</td>\n",
       "      <td>0</td>\n",
       "      <td>0</td>\n",
       "      <td>0</td>\n",
       "      <td>1</td>\n",
       "      <td>0</td>\n",
       "      <td>0</td>\n",
       "      <td>False</td>\n",
       "    </tr>\n",
       "    <tr>\n",
       "      <th>3366</th>\n",
       "      <td>3</td>\n",
       "      <td>3</td>\n",
       "      <td>-1.0</td>\n",
       "      <td>23</td>\n",
       "      <td>M</td>\n",
       "      <td>writer</td>\n",
       "      <td>32067</td>\n",
       "      <td>Four Rooms (1995)</td>\n",
       "      <td>1995</td>\n",
       "      <td>01-Jan-1995</td>\n",
       "      <td>...</td>\n",
       "      <td>0</td>\n",
       "      <td>0</td>\n",
       "      <td>0</td>\n",
       "      <td>0</td>\n",
       "      <td>0</td>\n",
       "      <td>0</td>\n",
       "      <td>1</td>\n",
       "      <td>0</td>\n",
       "      <td>0</td>\n",
       "      <td>False</td>\n",
       "    </tr>\n",
       "    <tr>\n",
       "      <th>3367</th>\n",
       "      <td>4</td>\n",
       "      <td>3</td>\n",
       "      <td>-1.0</td>\n",
       "      <td>23</td>\n",
       "      <td>M</td>\n",
       "      <td>writer</td>\n",
       "      <td>32067</td>\n",
       "      <td>Get Shorty (1995)</td>\n",
       "      <td>1995</td>\n",
       "      <td>01-Jan-1995</td>\n",
       "      <td>...</td>\n",
       "      <td>0</td>\n",
       "      <td>0</td>\n",
       "      <td>0</td>\n",
       "      <td>0</td>\n",
       "      <td>0</td>\n",
       "      <td>0</td>\n",
       "      <td>0</td>\n",
       "      <td>0</td>\n",
       "      <td>0</td>\n",
       "      <td>False</td>\n",
       "    </tr>\n",
       "    <tr>\n",
       "      <th>3368</th>\n",
       "      <td>5</td>\n",
       "      <td>3</td>\n",
       "      <td>-1.0</td>\n",
       "      <td>23</td>\n",
       "      <td>M</td>\n",
       "      <td>writer</td>\n",
       "      <td>32067</td>\n",
       "      <td>Copycat (1995)</td>\n",
       "      <td>1995</td>\n",
       "      <td>01-Jan-1995</td>\n",
       "      <td>...</td>\n",
       "      <td>0</td>\n",
       "      <td>0</td>\n",
       "      <td>0</td>\n",
       "      <td>0</td>\n",
       "      <td>0</td>\n",
       "      <td>0</td>\n",
       "      <td>1</td>\n",
       "      <td>0</td>\n",
       "      <td>0</td>\n",
       "      <td>False</td>\n",
       "    </tr>\n",
       "  </tbody>\n",
       "</table>\n",
       "<p>5 rows × 31 columns</p>\n",
       "</div>"
      ],
      "text/plain": [
       "      movie_id  user_id  rating  age gender occupation zip code  \\\n",
       "3364         1        3    -1.0   23      M     writer    32067   \n",
       "3365         2        3    -1.0   23      M     writer    32067   \n",
       "3366         3        3    -1.0   23      M     writer    32067   \n",
       "3367         4        3    -1.0   23      M     writer    32067   \n",
       "3368         5        3    -1.0   23      M     writer    32067   \n",
       "\n",
       "            movie_title release_date video_release_date      ...        \\\n",
       "3364   Toy Story (1995)         1995        01-Jan-1995      ...         \n",
       "3365   GoldenEye (1995)         1995        01-Jan-1995      ...         \n",
       "3366  Four Rooms (1995)         1995        01-Jan-1995      ...         \n",
       "3367  Get Shorty (1995)         1995        01-Jan-1995      ...         \n",
       "3368     Copycat (1995)         1995        01-Jan-1995      ...         \n",
       "\n",
       "     Film-Noir  Horror  Musical  Mystery  Romance  Sci-Fi  Thriller  War  \\\n",
       "3364         0       0        0        0        0       0         0    0   \n",
       "3365         0       0        0        0        0       0         1    0   \n",
       "3366         0       0        0        0        0       0         1    0   \n",
       "3367         0       0        0        0        0       0         0    0   \n",
       "3368         0       0        0        0        0       0         1    0   \n",
       "\n",
       "      Western  rating_exists  \n",
       "3364        0          False  \n",
       "3365        0          False  \n",
       "3366        0          False  \n",
       "3367        0          False  \n",
       "3368        0          False  \n",
       "\n",
       "[5 rows x 31 columns]"
      ]
     },
     "execution_count": 3,
     "metadata": {},
     "output_type": "execute_result"
    }
   ],
   "source": [
    "master_dataset[master_dataset['user_id']==3][:5]"
   ]
  },
  {
   "cell_type": "markdown",
   "metadata": {},
   "source": [
    "We can try multiple data imputation techniques:\n",
    "1. Let us try imputing the missing ratings value with the average values for age, release_date and occupation"
   ]
  },
  {
   "cell_type": "code",
   "execution_count": 4,
   "metadata": {},
   "outputs": [
    {
     "data": {
      "text/plain": [
       "3.3947368421052633"
      ]
     },
     "execution_count": 4,
     "metadata": {},
     "output_type": "execute_result"
    }
   ],
   "source": [
    "age_mean_rating = master_dataset[master_dataset['rating'] != -1].groupby(['age', 'occupation', 'release_date'])['rating'].mean()\n",
    "age_mean_rating[:5]\n",
    "age_mean_rating[23,'student', '1993']"
   ]
  },
  {
   "cell_type": "code",
   "execution_count": 5,
   "metadata": {
    "collapsed": true
   },
   "outputs": [],
   "source": [
    "def impute_value(row, anchor, by=age_mean_rating):\n",
    "    indices = [row[ele] for ele in anchor]\n",
    "    #print(indices, len(indices), indices[0])\n",
    "    if row['rating'] < 0:\n",
    "        return age_mean_rating[indices]\n",
    "    else:\n",
    "        return row['rating']"
   ]
  },
  {
   "cell_type": "code",
   "execution_count": null,
   "metadata": {},
   "outputs": [],
   "source": [
    "master_dataset['rating'] = master_dataset.apply(lambda row: impute_value(row, ['age', 'occupation', 'release_date']), axis=1)"
   ]
  },
  {
   "cell_type": "code",
   "execution_count": null,
   "metadata": {},
   "outputs": [],
   "source": [
    "master_dataset[master_dataset['user_id']==3][:5]"
   ]
  },
  {
   "cell_type": "code",
   "execution_count": null,
   "metadata": {
    "collapsed": true
   },
   "outputs": [],
   "source": [
    "data = master_dataset.copy()\n",
    "\n",
    "data['rating'] = data['rating'].apply(lambda ele: np.mean(ele))\n",
    "dep_data = data.select_dtypes(include=[\"int64\", \"float64\"])\n",
    "X_train, X_test, y_train, y_test = train_test_split(dep_data.drop(\"rating\", axis=1), data[\"rating\"], test_size=0.2, random_state=0)"
   ]
  },
  {
   "cell_type": "code",
   "execution_count": null,
   "metadata": {},
   "outputs": [],
   "source": [
    "dt = DecisionTreeRegressor(min_samples_leaf=3, max_features=\"sqrt\", random_state=0)\n",
    "\n",
    "dt.fit(X_train, y_train)\n",
    "tuple(sorted(zip( dt.feature_importances_, X_train.columns), reverse=True))[:10]"
   ]
  },
  {
   "cell_type": "code",
   "execution_count": null,
   "metadata": {
    "collapsed": true
   },
   "outputs": [],
   "source": [
    "y_test = [int(round(ele)) for ele in y_test ]\n",
    "pred = dt.predict(X_test)\n",
    "pred = [int(round(ele)) for ele in pred]\n",
    "cm = sklearn.metrics.confusion_matrix(pred, y_test, labels = [1,2,3,4,5])"
   ]
  },
  {
   "cell_type": "code",
   "execution_count": null,
   "metadata": {},
   "outputs": [],
   "source": [
    "fig = plt.figure()\n",
    "plt.clf()\n",
    "ax = fig.add_subplot(111)\n",
    "ax.set_aspect(1)\n",
    "res = ax.imshow(cm, cmap=plt.cm.jet, \n",
    "                interpolation='nearest')\n",
    "\n",
    "for x in range(5):\n",
    "    for y in range(5):\n",
    "        ax.annotate(str(cm[x][y]), xy=(y, x), \n",
    "                    horizontalalignment='center',\n",
    "                    verticalalignment='center')"
   ]
  }
 ],
 "metadata": {
  "kernelspec": {
   "display_name": "Python 3",
   "language": "python",
   "name": "python3"
  },
  "language_info": {
   "codemirror_mode": {
    "name": "ipython",
    "version": 3
   },
   "file_extension": ".py",
   "mimetype": "text/x-python",
   "name": "python",
   "nbconvert_exporter": "python",
   "pygments_lexer": "ipython3",
   "version": "3.6.3"
  }
 },
 "nbformat": 4,
 "nbformat_minor": 2
}
